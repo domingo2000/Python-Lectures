{
 "cells": [
  {
   "cell_type": "markdown",
   "metadata": {},
   "source": [
    "Todos los notebooks de este curso se encuentran en el siguiente repositorio https://github.com/domingo2000/Python-Lectures"
   ]
  },
  {
   "cell_type": "markdown",
   "metadata": {},
   "source": [
    "# Curso Python Programación"
   ]
  },
  {
   "cell_type": "markdown",
   "metadata": {},
   "source": [
    "Este material fue extraido de https://github.com/rajathkumarmp/Python-Lectures, y se encuentra modificado para los objetivos de este curso. Decidimos usar este material pues está muy bien estructurado y es interactivo para aprender."
   ]
  },
  {
   "cell_type": "markdown",
   "metadata": {},
   "source": [
    "## Introducción"
   ]
  },
  {
   "cell_type": "markdown",
   "metadata": {},
   "source": [
    "Python es un lenguaje moderno, robusto y de alto nivel de programación. Tiene la ventaja de ser bastante intuitivo y fácil de usar incluso si eres nuevo en la programación."
   ]
  },
  {
   "attachments": {},
   "cell_type": "markdown",
   "metadata": {},
   "source": [
    "## Instalación\n",
    "<!--- Falta agregar la imagen de Colab y Jupyter --->\n",
    "\n",
    "![Foo](https://raw.githubusercontent.com/domingo2000/Python-Lectures/master/pictures/colab_logo.png)\n",
    "\n",
    "Para los fines de este curso trabajaremos con una herramienta online llamada Google Colab la cual tiene muchas ventajas frente a usar una instalación directa de python, algunas de las siguientes son:\n",
    "\n",
    "1. Servicio en linea igual para todos sin depender del sistema operativo\n",
    "2. Sistema de control de versiones, siempre puedes volver atrás igual que un Google Docs\n",
    "3. Texto y codigo en un mismo lugar, puedes explicar con \"Markdown\" tus programas y programar en un solo entorno\n",
    "4. Rendimiento, Google Colab corre los codigos por ti y te da recursos, no importa que tengas un mal procesador o una baja RAM.\n",
    "5. IT'S Free\n",
    "\n",
    "![Foo](https://github.com/domingo2000/Python-Lectures/blob/master/pictures/its_free.png?raw=true)"
   ]
  },
  {
   "cell_type": "markdown",
   "metadata": {},
   "source": [
    "### ChromeBook\n",
    "    Completar usando ChromeBook\n",
    "### Windows\n",
    "    Completar usando Windows\n",
    "### Mac\n",
    "    Completar usando Mac\n",
    "Completar instalación y forma de uso de google colab usando un chromebok de forma específica."
   ]
  },
  {
   "cell_type": "markdown",
   "metadata": {},
   "source": [
    "## Abriendo un Notebook desde Google Colab"
   ]
  },
  {
   "cell_type": "markdown",
   "metadata": {},
   "source": [
    "Para abrir un notebook del material del curso deberás seguir las siguientes instrucciones\n",
    "### Instrucciones Abrir Notebook  del Material\n",
    "1. Ingresa a https://colab.research.google.com\n",
    "2. Selecciona \"Archivo\"/\"File\" en el menú superior de opciones\n",
    "3. Selecciona la opción \"Open Notebook\"\n",
    "4. Selecciona la opción \"GitHub\"\n",
    "5. Copia el siguiente link https://github.com/domingo2000/Python-Lectures\n",
    "6. Por último selecciona el archivo .pynb que quieres abrir\n",
    "\n",
    "Existen diferentes menús en colab que usaremos constantemente:\n",
    "    "
   ]
  },
  {
   "cell_type": "markdown",
   "metadata": {},
   "source": [
    "## Como aprendo usando estos Notebooks?"
   ]
  },
  {
   "cell_type": "markdown",
   "metadata": {},
   "source": [
    "Siguiendo las instrucciones anteriores vas abriendo cada notebook, luego ejecutas\n",
    "\n",
    "    Cell > All Output > Clear\n",
    "   \n",
    "Esto limpiará todos los outputs de colab y te dejará correr cada celda y aprender de forma interactiva.\n",
    "\n",
    "Luego para correr cada celda en Colab solo debes hacer clic en el botón ![Foo](https://github.com/domingo2000/Python-Lectures/blob/master/pictures/boton_play_colab.png?raw=true) para "
   ]
  },
  {
   "cell_type": "code",
   "execution_count": 1,
   "metadata": {},
   "outputs": [
    {
     "name": "stdout",
     "output_type": "stream",
     "text": [
      "Hello World!\n"
     ]
    }
   ],
   "source": [
    "print(\"Hello World!\")"
   ]
  },
  {
   "cell_type": "markdown",
   "metadata": {},
   "source": [
    "## Licencia"
   ]
  },
  {
   "cell_type": "markdown",
   "metadata": {},
   "source": [
    "This work is licensed under the Creative Commons Attribution 3.0 Unported License. To view a copy of this license, visit http://creativecommons.org/licenses/by/3.0/\n",
    "\n",
    "Este material fue extraido de https://github.com/rajathkumarmp/Python-Lectures, y se encuentra modificado para los objetivos de este curso."
   ]
  }
 ],
 "metadata": {
  "kernelspec": {
   "display_name": "Python 3",
   "language": "python",
   "name": "python3"
  },
  "language_info": {
   "codemirror_mode": {
    "name": "ipython",
    "version": 3
   },
   "file_extension": ".py",
   "mimetype": "text/x-python",
   "name": "python",
   "nbconvert_exporter": "python",
   "pygments_lexer": "ipython3",
   "version": "3.7.8"
  }
 },
 "nbformat": 4,
 "nbformat_minor": 1
}
